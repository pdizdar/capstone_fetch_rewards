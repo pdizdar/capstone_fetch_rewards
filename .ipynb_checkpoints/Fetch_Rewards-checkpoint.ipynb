{
 "cells": [
  {
   "cell_type": "markdown",
   "id": "4e1f12b1",
   "metadata": {},
   "source": [
    "### Feature 1 - Read data in from a local csv file - FETCH REWARDS SUMMARY"
   ]
  },
  {
   "cell_type": "markdown",
   "id": "a4d0c3f1",
   "metadata": {},
   "source": [
    "Use pandas library to read a csv file. Import pandas and numpy libraries for data analysis. Import matplotlib for data visualization."
   ]
  },
  {
   "cell_type": "code",
   "execution_count": 20,
   "id": "15130972",
   "metadata": {
    "collapsed": true
   },
   "outputs": [
    {
     "name": "stdout",
     "output_type": "stream",
     "text": [
      "Number of rows and columns: 97 and 8\n",
      "   TRANSACTION_NUMBER TRANSACTION_DATE     STORE_NAME  NUMBER_OF_ITEMS  \\\n",
      "0                   1       01/15/2022  REMKE MARKETS                9   \n",
      "1                   2       01/15/2022            CVS                2   \n",
      "2                   3       01/16/2022     APPLEBEE’S                9   \n",
      "3                   4       01/18/2022            CVS                1   \n",
      "4                   5       01/25/2022         COSTCO               41   \n",
      "\n",
      "   TOTAL_AMOUNT_SPENT($)  FETCH_REWARDS_EARNED SPECIAL_OFFER_BONUS(Y/N)  \\\n",
      "0                  30.19                    25                        N   \n",
      "1                  22.87                    25                        N   \n",
      "2                  72.98                    25                        N   \n",
      "3                  10.91                    25                        N   \n",
      "4                 501.94                   214                        Y   \n",
      "\n",
      "  EXCEPTION  \n",
      "0       NaN  \n",
      "1       NaN  \n",
      "2       NaN  \n",
      "3       NaN  \n",
      "4       NaN  \n",
      "    TRANSACTION_NUMBER TRANSACTION_DATE                      STORE_NAME  \\\n",
      "92                  93       09/20/2022                        SPEEDWAY   \n",
      "93                  94       09/21/2022                      MCDONALD’S   \n",
      "94                  95       09/30/2022                          COSTCO   \n",
      "95                  96       09/30/2022                          KROGER   \n",
      "96                  97       09/30/2022  MAHARAJA INTERNATIONAL GROCERY   \n",
      "\n",
      "    NUMBER_OF_ITEMS  TOTAL_AMOUNT_SPENT($)  FETCH_REWARDS_EARNED  \\\n",
      "92                1                  54.90                    25   \n",
      "93                2                  10.15                    25   \n",
      "94               18                 203.04                    25   \n",
      "95               12                  61.40                    25   \n",
      "96                7                  42.59                    25   \n",
      "\n",
      "   SPECIAL_OFFER_BONUS(Y/N) EXCEPTION  \n",
      "92                        N       NaN  \n",
      "93                        N       NaN  \n",
      "94                        N       NaN  \n",
      "95                        N       NaN  \n",
      "96                        N       NaN  \n"
     ]
    }
   ],
   "source": [
    "import pandas as pd\n",
    "import numpy as np\n",
    "import matplotlib \n",
    "from matplotlib import pyplot as plt\n",
    "monthly_budget = 900\n",
    "df = pd.read_csv (r'FETCH REWARDS SUMMARY.csv') #read.csv file stored in capstone project folder\n",
    "# Get the number of rows and columns\n",
    "rows = len(df.axes[0])\n",
    "cols = len(df.axes[1])\n",
    "  \n",
    "# Print the number of rows and columns\n",
    "print(f'Number of rows and columns: {str(rows)} and {str(cols)}')\n",
    "print(df.head(5))\n",
    "print(df.tail(5))"
   ]
  },
  {
   "cell_type": "markdown",
   "id": "b291832b",
   "metadata": {},
   "source": [
    "Print all the column name and the types of data for each column"
   ]
  },
  {
   "cell_type": "code",
   "execution_count": 41,
   "id": "546b392f",
   "metadata": {},
   "outputs": [
    {
     "name": "stdout",
     "output_type": "stream",
     "text": [
      "[['TRANSACTION_NUMBER', 'TRANSACTION_DATE', 'STORE_NAME', 'NUMBER_OF_ITEMS', 'TOTAL_AMOUNT_SPENT($)', 'FETCH_REWARDS_EARNED', 'SPECIAL_OFFER_BONUS(Y/N)', 'EXCEPTION']]\n",
      "TRANSACTION_NUMBER            int64\n",
      "TRANSACTION_DATE             object\n",
      "STORE_NAME                   object\n",
      "NUMBER_OF_ITEMS               int64\n",
      "TOTAL_AMOUNT_SPENT($)       float64\n",
      "FETCH_REWARDS_EARNED          int64\n",
      "SPECIAL_OFFER_BONUS(Y/N)     object\n",
      "EXCEPTION                    object\n",
      "dtype: object\n"
     ]
    }
   ],
   "source": [
    "index = [list(df.columns)]   \n",
    "print(index)\n",
    "print(df.dtypes)"
   ]
  },
  {
   "cell_type": "markdown",
   "id": "e47a071c",
   "metadata": {},
   "source": [
    "Object Class"
   ]
  },
  {
   "cell_type": "code",
   "execution_count": 19,
   "id": "979cef13",
   "metadata": {
    "collapsed": true
   },
   "outputs": [
    {
     "name": "stdout",
     "output_type": "stream",
     "text": [
      "<class 'pandas.core.frame.DataFrame'>\n"
     ]
    }
   ],
   "source": [
    "print(type(df))"
   ]
  },
  {
   "cell_type": "markdown",
   "id": "814cc877",
   "metadata": {},
   "source": [
    "### Feature 2 - Manipulate and clean data"
   ]
  },
  {
   "cell_type": "code",
   "execution_count": 42,
   "id": "e95c8417",
   "metadata": {
    "collapsed": true
   },
   "outputs": [
    {
     "name": "stdout",
     "output_type": "stream",
     "text": [
      "Number of rows and columns: 89 and 8\n",
      "   TRANSACTION_NUMBER TRANSACTION_DATE     STORE_NAME  NUMBER_OF_ITEMS  \\\n",
      "0                   1       2022-01-15  REMKE MARKETS                9   \n",
      "1                   2       2022-01-15            CVS                2   \n",
      "2                   3       2022-01-16     APPLEBEE’S                9   \n",
      "3                   4       2022-01-18            CVS                1   \n",
      "4                   5       2022-01-25         COSTCO               41   \n",
      "\n",
      "   TOTAL_AMOUNT_SPENT($)  FETCH_REWARDS_EARNED SPECIAL_OFFER_BONUS(Y/N)  \\\n",
      "0                  30.19                    25                        N   \n",
      "1                  22.87                    25                        N   \n",
      "2                  72.98                    25                        N   \n",
      "3                  10.91                    25                        N   \n",
      "4                 501.94                   214                        Y   \n",
      "\n",
      "  EXCEPTION  \n",
      "0       NaN  \n",
      "1       NaN  \n",
      "2       NaN  \n",
      "3       NaN  \n",
      "4       NaN  \n",
      "    TRANSACTION_NUMBER TRANSACTION_DATE                      STORE_NAME  \\\n",
      "92                  93       2022-09-20                        SPEEDWAY   \n",
      "93                  94       2022-09-21                      MCDONALD’S   \n",
      "94                  95       2022-09-30                          COSTCO   \n",
      "95                  96       2022-09-30                          KROGER   \n",
      "96                  97       2022-09-30  MAHARAJA INTERNATIONAL GROCERY   \n",
      "\n",
      "    NUMBER_OF_ITEMS  TOTAL_AMOUNT_SPENT($)  FETCH_REWARDS_EARNED  \\\n",
      "92                1                  54.90                    25   \n",
      "93                2                  10.15                    25   \n",
      "94               18                 203.04                    25   \n",
      "95               12                  61.40                    25   \n",
      "96                7                  42.59                    25   \n",
      "\n",
      "   SPECIAL_OFFER_BONUS(Y/N) EXCEPTION  \n",
      "92                        N       NaN  \n",
      "93                        N       NaN  \n",
      "94                        N       NaN  \n",
      "95                        N       NaN  \n",
      "96                        N       NaN  \n",
      "TRANSACTION_NUMBER                   int64\n",
      "TRANSACTION_DATE            datetime64[ns]\n",
      "STORE_NAME                          object\n",
      "NUMBER_OF_ITEMS                      int64\n",
      "TOTAL_AMOUNT_SPENT($)              float64\n",
      "FETCH_REWARDS_EARNED                 int64\n",
      "SPECIAL_OFFER_BONUS(Y/N)            object\n",
      "EXCEPTION                           object\n",
      "dtype: object\n"
     ]
    }
   ],
   "source": [
    "# format to correct datetime\n",
    "df['TRANSACTION_DATE'] = pd.to_datetime(df['TRANSACTION_DATE']) \n",
    "\n",
    "#removing rows where fetch rewards=0 and replacing it with new dataframe\n",
    "for rewards in df.index:\n",
    "    if df.loc[rewards, 'FETCH_REWARDS_EARNED'] == 0: #remove rows where fetch rewards earned =0\n",
    "        df.drop(rewards, inplace = True) #replace with new data \n",
    "rows = len(df.axes[0])\n",
    "cols = len(df.axes[1])\n",
    "  \n",
    "# Print the number of rows and columns\n",
    "print(f'Number of rows and columns: {str(rows)} and {str(cols)}')\n",
    "print(df.head(5))\n",
    "print(df.tail(5))\n",
    "print(df.dtypes)"
   ]
  },
  {
   "cell_type": "markdown",
   "id": "e25a8bc4",
   "metadata": {},
   "source": [
    "### Feature 3 - Analyze data - FETCH REWARDS SUMMARY"
   ]
  },
  {
   "cell_type": "markdown",
   "id": "d8631e14",
   "metadata": {},
   "source": [
    "Analyze data from January 2022 to September 2022 to see how much money is spent so far, what is the maximum and minimum, average cost of an item and average per transaction. Round the average to 2 decimal point. "
   ]
  },
  {
   "cell_type": "code",
   "execution_count": 27,
   "id": "838f86fa",
   "metadata": {
    "collapsed": true
   },
   "outputs": [
    {
     "name": "stdout",
     "output_type": "stream",
     "text": [
      "Total number of items purchased : 815\n",
      "Total amount spent : $ 6508.27\n",
      "Maximum amount spent : $501.94\n",
      "Minimum amount spent : $0.31\n",
      "Average amount spent : $73.13\n",
      "Total number of transaction : 89\n",
      "Average cost of each item : $7.99\n",
      "Average cost per transaction : $73.13\n"
     ]
    }
   ],
   "source": [
    "total_number_of_items_purchased = df['NUMBER_OF_ITEMS'].sum()\n",
    "total_amount_spent = df['TOTAL_AMOUNT_SPENT($)'].sum()\n",
    "maximum_amt_spent = df['TOTAL_AMOUNT_SPENT($)'].max()\n",
    "minimum_amt_spent = df['TOTAL_AMOUNT_SPENT($)'].min()\n",
    "average_amt_spent = round(df['TOTAL_AMOUNT_SPENT($)'].mean(), 2)\n",
    "number_of_trans = df['TRANSACTION_NUMBER'].count()\n",
    "average_cost_of_each_item = round(total_amount_spent / total_number_of_items, 2)\n",
    "average_cost_per_transaction = round(total_amount_spent / number_of_trans, 2)\n",
    "\n",
    "print(f'Total number of items purchased : {total_number_of_items_purchased}')\n",
    "print(f'Total amount spent : $ {total_amount_spent}')\n",
    "print(f'Maximum amount spent : ${maximum_amt_spent}')\n",
    "print(f'Minimum amount spent : ${minimum_amt_spent}')\n",
    "print(f'Average amount spent : ${average_amt_spent}')\n",
    "print(f'Total number of transaction : {number_of_trans}')\n",
    "print(f'Average cost of each item : ${average_cost_of_each_item}')\n",
    "print(f'Average cost per transaction : ${average_cost_per_transaction}')"
   ]
  },
  {
   "cell_type": "markdown",
   "id": "e178f8dd",
   "metadata": {},
   "source": [
    "Using groupby function to group all the transaction by month and print total amount spent that month, no. of items bought and see how many rewards points earned.\n"
   ]
  },
  {
   "cell_type": "code",
   "execution_count": 56,
   "id": "e723e0b2",
   "metadata": {
    "collapsed": true
   },
   "outputs": [
    {
     "name": "stdout",
     "output_type": "stream",
     "text": [
      "                  TOTAL_AMOUNT_SPENT($)  FETCH_REWARDS_EARNED\n",
      "TRANSACTION_DATE                                             \n",
      "1                                819.93                   427\n",
      "2                                639.11                   444\n",
      "3                                492.14                   350\n",
      "4                                858.99                  1255\n",
      "5                                172.98                   150\n",
      "6                                770.58                  1734\n",
      "7                                362.64                   317\n",
      "8                               1310.65                   801\n",
      "9                               1081.25                   711\n"
     ]
    }
   ],
   "source": [
    "#prints month in jan-sept format but can't sort by month in ascending order\n",
    "#monthly_expense = df.groupby(df['TRANSACTION_DATE'].dt.strftime('%B'))[['TOTAL_AMOUNT_SPENT($)', 'NUMBER_OF_ITEMS', 'FETCH_REWARDS_EARNED']].sum()\n",
    "\n",
    "monthly_expense_and_rewards = df.groupby(df.TRANSACTION_DATE.dt.month)[['TOTAL_AMOUNT_SPENT($)', 'FETCH_REWARDS_EARNED']].sum()\n",
    "'''if monthly_expense <= monthly_budget:\n",
    "    print('Great job! You stayed on budget')\n",
    "else:\n",
    "    print('!!!You went over budget!!!!')'''\n",
    "\n",
    "print(monthly_expense_and_rewards)"
   ]
  },
  {
   "cell_type": "code",
   "execution_count": 58,
   "id": "8fd95223",
   "metadata": {
    "collapsed": true
   },
   "outputs": [
    {
     "name": "stdout",
     "output_type": "stream",
     "text": [
      "       STORE_NAME  TOTAL_AMOUNT_SPENT($)  NUMBER_OF_ITEMS\n",
      "0   REMKE MARKETS                  30.19                9\n",
      "6   REMKE MARKETS                  14.72                4\n",
      "7   REMKE MARKETS                 116.74               42\n",
      "13  REMKE MARKETS                  26.56                4\n",
      "14  REMKE MARKETS                  19.68                4\n",
      "25  REMKE MARKETS                  30.19                9\n",
      "55  REMKE MARKETS                 104.07               26\n",
      "62  REMKE MARKETS                  49.62                8\n",
      "67  REMKE MARKETS                  74.16               18\n",
      "70  REMKE MARKETS                  44.10                7\n",
      "71  REMKE MARKETS                   8.46                2\n",
      "72  REMKE MARKETS                  85.38               24\n",
      "74  REMKE MARKETS                  29.23                3\n",
      "77  REMKE MARKETS                  17.99                5\n",
      "90  REMKE MARKETS                  29.23                2\n"
     ]
    }
   ],
   "source": [
    "#getting storename, amount spent n no of items\n",
    "total_spent_by_store_amount_items = df.loc[:,['STORE_NAME', 'TOTAL_AMOUNT_SPENT($)', 'NUMBER_OF_ITEMS']] \n",
    "\n",
    "#info for specific store only like costco\n",
    "total_spent_by_specific_store = total_spent_by_store_amount_items.loc[total_spent_by_store_amount_items ['STORE_NAME'] == 'REMKE MARKETS']\n",
    "\n",
    "\n",
    "#print(total_spent_by_store_amount_items)\n",
    "print(total_spent_by_specific_store)"
   ]
  },
  {
   "cell_type": "markdown",
   "id": "be7a739f",
   "metadata": {},
   "source": [
    "### Feature 4 - Visualize data (line chart) - MONTHLY EXPENSE VS REWARDS EARNED"
   ]
  },
  {
   "cell_type": "code",
   "execution_count": 57,
   "id": "81d6467e",
   "metadata": {
    "collapsed": true
   },
   "outputs": [
    {
     "data": {
      "text/plain": [
       "<matplotlib.legend.Legend at 0x2108bd5ce20>"
      ]
     },
     "execution_count": 57,
     "metadata": {},
     "output_type": "execute_result"
    },
    {
     "data": {
      "image/png": "[encoded data removed]",
      "text/plain": [
       "<Figure size 640x480 with 1 Axes>"
      ]
     },
     "metadata": {},
     "output_type": "display_data"
    }
   ],
   "source": [
    "\n",
    "plt.plot(monthly_expense_and_rewards)\n",
    "plt.xlabel('TRANSACTION MONTH')\n",
    "plt.ylabel('TOTAL AMOUNT SPENT')\n",
    "plt.title('MONTHLY EXPENSE VS REWARDS EARNED')\n",
    "plt.legend(['TOTAL_AMOUNT_SPENT($)', 'FETCH_REWARDS_EARNED'])"
   ]
  },
  {
   "cell_type": "markdown",
   "id": "85ba8b1e",
   "metadata": {},
   "source": [
    "### Feature 5 - Interpretation of MONTHLY EXPENSE VS REWARDS EARNED DATA"
   ]
  },
  {
   "cell_type": "markdown",
   "id": "8487e145",
   "metadata": {},
   "source": [
    "Conclusion: From the table and chart above, we can see that 8 on transaction_date meaning August, we spent the most money and in May we spent least amount of money. But the rewards earned was highest in the month of June and lowest in the month of May."
   ]
  },
  {
   "cell_type": "markdown",
   "id": "da2414e8",
   "metadata": {},
   "source": [
    "### End"
   ]
  },
  {
   "cell_type": "markdown",
   "id": "9badc771",
   "metadata": {},
   "source": [
    "Extra things i want to do with data"
   ]
  },
  {
   "cell_type": "code",
   "execution_count": 9,
   "id": "7b9c5ed0",
   "metadata": {
    "collapsed": true
   },
   "outputs": [
    {
     "name": "stdout",
     "output_type": "stream",
     "text": [
      "                  TOTAL_AMOUNT_SPENT($)  NUMBER_OF_ITEMS  FETCH_REWARDS_EARNED\n",
      "TRANSACTION_DATE                                                              \n",
      "April                            858.99              111                  1255\n",
      "August                          1310.65              127                   801\n",
      "February                         639.11               71                   444\n",
      "January                          819.93              109                   427\n",
      "July                             362.64               81                   317\n",
      "June                             770.58               87                  1734\n",
      "March                            492.14              102                   350\n",
      "May                              172.98                6                   150\n",
      "September                       1081.25              121                   711\n"
     ]
    },
    {
     "data": {
      "text/plain": [
       "\"plt.plot(monthly_expense)\\nplt.xlabel('TRANSACTION MONTH')\\nplt.ylabel('TOTAL AMOUNT SPENT')\\nplt.title('MONTHLY EXPENSE REPORT')\\nplt.legend(['TOTAL_AMOUNT_SPENT($)', 'NUMBER_OF_ITEMS', 'FETCH_REWARDS_EARNED'])\""
      ]
     },
     "execution_count": 9,
     "metadata": {},
     "output_type": "execute_result"
    }
   ],
   "source": [
    "from matplotlib import pyplot as plt\n",
    "#df = pd.read_csv (r'FETCH REWARDS SUMMARY.csv')\n",
    "months = [\"Jan\", \"Feb\", \"Mar\", \"Apr\", \"May\", \"Jun\", \n",
    "          \"Jul\", \"Aug\", \"Sep\", \"Oct\", \"Nov\", \"Dec\"]\n",
    "#monthly_expense = df.groupby(df['TRANSACTION_DATE'].dt.strftime('%B'))[['TOTAL_AMOUNT_SPENT($)', 'NUMBER_OF_ITEMS', 'FETCH_REWARDS_EARNED']].sum()\n",
    "#monthly_expense = df.groupby(df['TRANSACTION_DATE'].dt.strftime('%B'))[['TOTAL_AMOUNT_SPENT($)', 'NUMBER_OF_ITEMS', 'FETCH_REWARDS_EARNED']].sum()\n",
    "#monthly_expense = df.groupby(df['TRANSACTION_DATE'].dt.strftime('%B'))[['TOTAL_AMOUNT_SPENT($)', 'NUMBER_OF_ITEMS', 'FETCH_REWARDS_EARNED']].sum()\n",
    "#monthly_expense = df.groupby(df['TRANSACTION_DATE'].dt.strftime('%B'))[['TOTAL_AMOUNT_SPENT($)', 'NUMBER_OF_ITEMS', 'FETCH_REWARDS_EARNED']].sum()\n",
    "#df['months'] = df['TRANSACTION_DATE'].dt.month\n",
    "\n",
    "\n",
    "#df['months'] = pd.Categorical(df['TRANSACTION_DATE'], categories=months, ordered=True)\n",
    "#print(df)\n",
    "#df.sort_values(...)  # same as you have now; can use inplace=True\n",
    "\n",
    "#BY_MONTH = (df['TRANSACTION_DATE'].dt.strftime('%B')), assending\n",
    "\n",
    "monthly_expense = df.groupby(df.TRANSACTION_DATE.dt.strftime('%B'))[['TOTAL_AMOUNT_SPENT($)', 'NUMBER_OF_ITEMS', 'FETCH_REWARDS_EARNED']].sum()\n",
    "\n",
    "#monthly_expense = df.groupby(df.TRANSACTION_DATE.dt.month)['TOTAL_AMOUNT_SPENT($)'].sum() #df.groupby(df['TRANSACTION_DATE'].dt.strftime('%B'))['TOTAL_AMOUNT_SPENT($)', 'TRANSACTION_DATE'].sum().sort_values(by=['TRANSACTION_DATE'], ascending= True)\n",
    "\n",
    "\n",
    "\n",
    "#monthly_expense_by_month = monthly_expense.sort_values()\n",
    "#print(monthly_expense_by_month)\n",
    "print(monthly_expense)\n",
    "#print(BY_MONTH)\n",
    "#plt.plot(monthly_expense_by_month)\n",
    "'''plt.plot(monthly_expense)\n",
    "plt.xlabel('TRANSACTION MONTH')\n",
    "plt.ylabel('TOTAL AMOUNT SPENT')\n",
    "plt.title('MONTHLY EXPENSE REPORT')\n",
    "plt.legend(['TOTAL_AMOUNT_SPENT($)', 'NUMBER_OF_ITEMS', 'FETCH_REWARDS_EARNED'])'''"
   ]
  },
  {
   "cell_type": "code",
   "execution_count": 26,
   "id": "44c7fca5",
   "metadata": {
    "collapsed": true
   },
   "outputs": [
    {
     "name": "stdout",
     "output_type": "stream",
     "text": [
      "APPLEBEE’S\n",
      "<pandas.core.groupby.generic.DataFrameGroupBy object at 0x000002CC00DABC40>\n",
      "\n",
      "BATH & BODY WORKS\n",
      "<pandas.core.groupby.generic.DataFrameGroupBy object at 0x000002CC00DABC40>\n",
      "\n",
      "BURGER KING\n",
      "<pandas.core.groupby.generic.DataFrameGroupBy object at 0x000002CC00DABC40>\n",
      "\n",
      "CARTER’S SUPERMARKET\n",
      "<pandas.core.groupby.generic.DataFrameGroupBy object at 0x000002CC00DABC40>\n",
      "\n",
      "CENTRAL MARKET\n",
      "<pandas.core.groupby.generic.DataFrameGroupBy object at 0x000002CC00DABC40>\n",
      "\n",
      "CITY BIRD\n",
      "<pandas.core.groupby.generic.DataFrameGroupBy object at 0x000002CC00DABC40>\n",
      "\n",
      "COLD STONE CREAMERY\n",
      "<pandas.core.groupby.generic.DataFrameGroupBy object at 0x000002CC00DABC40>\n",
      "\n",
      "COSTCO\n",
      "<pandas.core.groupby.generic.DataFrameGroupBy object at 0x000002CC00DABC40>\n",
      "\n",
      "COSTCO FUEL\n",
      "<pandas.core.groupby.generic.DataFrameGroupBy object at 0x000002CC00DABC40>\n",
      "\n",
      "CVS\n",
      "<pandas.core.groupby.generic.DataFrameGroupBy object at 0x000002CC00DABC40>\n",
      "\n",
      "DILLARD’S\n",
      "<pandas.core.groupby.generic.DataFrameGroupBy object at 0x000002CC00DABC40>\n",
      "\n",
      "DOMINO’S PIZZA\n",
      "<pandas.core.groupby.generic.DataFrameGroupBy object at 0x000002CC00DABC40>\n",
      "\n",
      "FAMILY PRACTICE CENTER\n",
      "<pandas.core.groupby.generic.DataFrameGroupBy object at 0x000002CC00DABC40>\n",
      "\n",
      "J.CREW\n",
      "<pandas.core.groupby.generic.DataFrameGroupBy object at 0x000002CC00DABC40>\n",
      "\n",
      "KROGER\n",
      "<pandas.core.groupby.generic.DataFrameGroupBy object at 0x000002CC00DABC40>\n",
      "\n",
      "MACY’S\n",
      "<pandas.core.groupby.generic.DataFrameGroupBy object at 0x000002CC00DABC40>\n",
      "\n",
      "MAHARAJA INTERNATIONAL GROCERY\n",
      "<pandas.core.groupby.generic.DataFrameGroupBy object at 0x000002CC00DABC40>\n",
      "\n",
      "MAI THAI RESTAURANT SUSHI BAR\n",
      "<pandas.core.groupby.generic.DataFrameGroupBy object at 0x000002CC00DABC40>\n",
      "\n",
      "MCDONALD’S\n",
      "<pandas.core.groupby.generic.DataFrameGroupBy object at 0x000002CC00DABC40>\n",
      "\n",
      "OLIVE GARDEN\n",
      "<pandas.core.groupby.generic.DataFrameGroupBy object at 0x000002CC00DABC40>\n",
      "\n",
      "PANERA\n",
      "<pandas.core.groupby.generic.DataFrameGroupBy object at 0x000002CC00DABC40>\n",
      "\n",
      "PAY EACH TIME YOU PARK\n",
      "<pandas.core.groupby.generic.DataFrameGroupBy object at 0x000002CC00DABC40>\n",
      "\n",
      "REMKE MARKETS\n",
      "<pandas.core.groupby.generic.DataFrameGroupBy object at 0x000002CC00DABC40>\n",
      "\n",
      "SHELL\n",
      "<pandas.core.groupby.generic.DataFrameGroupBy object at 0x000002CC00DABC40>\n",
      "\n",
      "SPEEDWAY\n",
      "<pandas.core.groupby.generic.DataFrameGroupBy object at 0x000002CC00DABC40>\n",
      "\n",
      "STARBUCKS\n",
      "<pandas.core.groupby.generic.DataFrameGroupBy object at 0x000002CC00DABC40>\n",
      "\n",
      "SUPER QUIK\n",
      "<pandas.core.groupby.generic.DataFrameGroupBy object at 0x000002CC00DABC40>\n",
      "\n",
      "TARGET\n",
      "<pandas.core.groupby.generic.DataFrameGroupBy object at 0x000002CC00DABC40>\n",
      "\n",
      "THAWNG ASIAN GROCERY\n",
      "<pandas.core.groupby.generic.DataFrameGroupBy object at 0x000002CC00DABC40>\n",
      "\n",
      "THE CHEESECAKE FACTORY\n",
      "<pandas.core.groupby.generic.DataFrameGroupBy object at 0x000002CC00DABC40>\n",
      "\n",
      "THE HOME DEPOT\n",
      "<pandas.core.groupby.generic.DataFrameGroupBy object at 0x000002CC00DABC40>\n",
      "\n",
      "USPS\n",
      "<pandas.core.groupby.generic.DataFrameGroupBy object at 0x000002CC00DABC40>\n",
      "\n",
      "VICTORIA’S SECRET\n",
      "<pandas.core.groupby.generic.DataFrameGroupBy object at 0x000002CC00DABC40>\n",
      "\n"
     ]
    }
   ],
   "source": [
    "#expenses_by_store = df.groupby(df['STORE_NAME'])[['TOTAL_AMOUNT_SPENT($)', 'FETCH_REWARDS_EARNED']].sum().sort_values(by='STORE_NAME')\n",
    "'''expenses_by_store = df.groupby(df['STORE_NAME'])#[['TOTAL_AMOUNT_SPENT($)', 'FETCH_REWARDS_EARNED']].sum().sort_values(by='STORE_NAME')\n",
    "for name, group in expenses_by_store:\n",
    "    print(name)\n",
    "    print(expenses_by_store)\n",
    "    print()\n",
    "#print(expenses_by_store)\n",
    "'''\n",
    "\n"
   ]
  },
  {
   "cell_type": "code",
   "execution_count": 14,
   "id": "481536be",
   "metadata": {
    "scrolled": true
   },
   "outputs": [
    {
     "name": "stdout",
     "output_type": "stream",
     "text": [
      "                        STORE_NAME  TOTAL_AMOUNT_SPENT($)  NUMBER_OF_ITEMS\n",
      "0                    REMKE MARKETS                  30.19                9\n",
      "1                              CVS                  22.87                2\n",
      "2                       APPLEBEE’S                  72.98                9\n",
      "3                              CVS                  10.91                1\n",
      "4                           COSTCO                 501.94               41\n",
      "..                             ...                    ...              ...\n",
      "92                        SPEEDWAY                  54.90                1\n",
      "93                      MCDONALD’S                  10.15                2\n",
      "94                          COSTCO                 203.04               18\n",
      "95                          KROGER                  61.40               12\n",
      "96  MAHARAJA INTERNATIONAL GROCERY                  42.59                7\n",
      "\n",
      "[89 rows x 3 columns]\n",
      "   STORE_NAME  TOTAL_AMOUNT_SPENT($)  NUMBER_OF_ITEMS\n",
      "4      COSTCO                 501.94               41\n",
      "10     COSTCO                 500.38               49\n",
      "36     COSTCO                   8.45                4\n",
      "57     COSTCO                 379.11               26\n",
      "73     COSTCO                 491.56               36\n",
      "82     COSTCO                 148.38                1\n",
      "83     COSTCO                 147.36               11\n",
      "86     COSTCO                  29.05                2\n",
      "91     COSTCO                 476.29               14\n",
      "94     COSTCO                 203.04               18\n"
     ]
    }
   ],
   "source": [
    "total_spent_by_store_amount_items = df.loc[:,['STORE_NAME', 'TOTAL_AMOUNT_SPENT($)', 'NUMBER_OF_ITEMS']] #geting storename, amount spent n no of items\n",
    "total_spent_by_specific_store = total_spent_by_specific_store_amount.loc[total_spent_by_specific_store_amount['STORE_NAME'] == 'COSTCO'] #info for specific store only like costco\n",
    "#df.loc[:,'Country':'Units Sold']\n",
    "#[['TOTAL_AMOUNT_SPENT($)', 'NUMBER_OF_ITEMS', 'FETCH_REWARDS_EARNED']]\n",
    " # sum by each store\n",
    "#kenton_county_schools = dataset.loc[dataset['COUNTY NAME'] == 'KENTON']\n",
    "#print(f'Total spent by store{total_spent_by_specific_store}')\n",
    "print(total_spent_by_store_amount_items)\n",
    "print(total_spent_by_specific_store)"
   ]
  },
  {
   "cell_type": "markdown",
   "id": "e7025803",
   "metadata": {},
   "source": [
    "I want to categorize the stores into grocery, gas, restaurants, etc.."
   ]
  },
  {
   "cell_type": "code",
   "execution_count": 59,
   "id": "82ad8923",
   "metadata": {},
   "outputs": [
    {
     "name": "stdout",
     "output_type": "stream",
     "text": [
      "STORE_NAME\n",
      "APPLEBEE’S                          25\n",
      "BATH & BODY WORKS                   25\n",
      "BURGER KING                         25\n",
      "CARTER’S SUPERMARKET                25\n",
      "CENTRAL MARKET                      35\n",
      "CITY BIRD                           25\n",
      "COLD STONE CREAMERY                 25\n",
      "COSTCO                            1681\n",
      "COSTCO FUEL                         50\n",
      "CVS                                447\n",
      "DILLARD’S                           25\n",
      "DOMINO’S PIZZA                      25\n",
      "FAMILY PRACTICE CENTER              50\n",
      "J.CREW                              25\n",
      "KROGER                            1266\n",
      "MACY’S                              50\n",
      "MAHARAJA INTERNATIONAL GROCERY      50\n",
      "MAI THAI RESTAURANT SUSHI BAR       25\n",
      "MCDONALD’S                          50\n",
      "OLIVE GARDEN                       350\n",
      "PANERA                              25\n",
      "PAY EACH TIME YOU PARK              25\n",
      "REMKE MARKETS                      450\n",
      "SHELL                               25\n",
      "SPEEDWAY                           400\n",
      "STARBUCKS                           50\n",
      "SUPER QUIK                          25\n",
      "TARGET                              25\n",
      "THAWNG ASIAN GROCERY                85\n",
      "THE CHEESECAKE FACTORY              25\n",
      "THE HOME DEPOT                     125\n",
      "USPS                               625\n",
      "VICTORIA’S SECRET                   25\n",
      "Name: FETCH_REWARDS_EARNED, dtype: int64\n"
     ]
    }
   ],
   "source": [
    "total_spent_by_store = df.groupby(['STORE_NAME'])['FETCH_REWARDS_EARNED'].sum() # sum by each store\n",
    "print(total_spent_by_store)"
   ]
  },
  {
   "cell_type": "code",
   "execution_count": null,
   "id": "290efe43",
   "metadata": {},
   "outputs": [],
   "source": []
  },
  {
   "cell_type": "code",
   "execution_count": null,
   "id": "77b27665",
   "metadata": {},
   "outputs": [],
   "source": []
  }
 ],
 "metadata": {
  "kernelspec": {
   "display_name": "Python 3 (ipykernel)",
   "language": "python",
   "name": "python3"
  },
  "language_info": {
   "codemirror_mode": {
    "name": "ipython",
    "version": 3
   },
   "file_extension": ".py",
   "mimetype": "text/x-python",
   "name": "python",
   "nbconvert_exporter": "python",
   "pygments_lexer": "ipython3",
   "version": "3.10.6"
  },
  "vscode": {
   "interpreter": {
    "hash": "7035242809239a9ce3bb05b957fde49fccdabf609ac60690970f94110aed7619"
   }
  }
 },
 "nbformat": 4,
 "nbformat_minor": 5
}
