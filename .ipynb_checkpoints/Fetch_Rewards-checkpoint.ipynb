{
 "cells": [
  {
   "cell_type": "markdown",
   "id": "a4d0c3f1",
   "metadata": {},
   "source": [
    "import pandas library to read a csv file"
   ]
  },
  {
   "cell_type": "code",
   "execution_count": 1,
   "id": "556094c5",
   "metadata": {},
   "outputs": [
    {
     "name": "stdout",
     "output_type": "stream",
     "text": [
      "    TRANSACTION_NUMBER TRANSACTION_DATE                      STORE_NAME  \\\n",
      "0                    1       01/15/2022                   REMKE MARKETS   \n",
      "1                    2       01/15/2022                             CVS   \n",
      "2                    3       01/16/2022                      APPLEBEE’S   \n",
      "3                    4       01/18/2022                             CVS   \n",
      "4                    5       01/25/2022                          COSTCO   \n",
      "..                 ...              ...                             ...   \n",
      "92                  93       09/20/2022                        SPEEDWAY   \n",
      "93                  94       09/21/2022                      MCDONALD’S   \n",
      "94                  95       09/30/2022                          COSTCO   \n",
      "95                  96       09/30/2022                          KROGER   \n",
      "96                  97       09/30/2022  MAHARAJA INTERNATIONAL GROCERY   \n",
      "\n",
      "    NUMBER_OF_ITEMS  TOTAL_AMOUNT_SPENT($)  FETCH_REWARDS_EARNED  \\\n",
      "0                 9                  30.19                    25   \n",
      "1                 2                  22.87                    25   \n",
      "2                 9                  72.98                    25   \n",
      "3                 1                  10.91                    25   \n",
      "4                41                 501.94                   214   \n",
      "..              ...                    ...                   ...   \n",
      "92                1                  54.90                    25   \n",
      "93                2                  10.15                    25   \n",
      "94               18                 203.04                    25   \n",
      "95               12                  61.40                    25   \n",
      "96                7                  42.59                    25   \n",
      "\n",
      "   SPECIAL_OFFER_BONUS(Y/N) EXCEPTION  \n",
      "0                         N       NaN  \n",
      "1                         N       NaN  \n",
      "2                         N       NaN  \n",
      "3                         N       NaN  \n",
      "4                         Y       NaN  \n",
      "..                      ...       ...  \n",
      "92                        N       NaN  \n",
      "93                        N       NaN  \n",
      "94                        N       NaN  \n",
      "95                        N       NaN  \n",
      "96                        N       NaN  \n",
      "\n",
      "[97 rows x 8 columns]\n"
     ]
    }
   ],
   "source": [
    "import pandas as pd\n",
    "import matplotlib \n",
    "from matplotlib import pyplot as plt\n",
    "df = pd.read_csv (r'C:\\Users\\prati\\OneDrive\\Desktop\\data class\\capstone_project\\FETCH REWARDS SUMMARY.csv')\n",
    "print(df)"
   ]
  },
  {
   "cell_type": "markdown",
   "id": "dd8e495e",
   "metadata": {},
   "source": [
    "format the transaction date"
   ]
  },
  {
   "cell_type": "code",
   "execution_count": 2,
   "id": "100e9219",
   "metadata": {},
   "outputs": [
    {
     "name": "stdout",
     "output_type": "stream",
     "text": [
      "    TRANSACTION_NUMBER TRANSACTION_DATE                      STORE_NAME  \\\n",
      "0                    1       2022-01-15                   REMKE MARKETS   \n",
      "1                    2       2022-01-15                             CVS   \n",
      "2                    3       2022-01-16                      APPLEBEE’S   \n",
      "3                    4       2022-01-18                             CVS   \n",
      "4                    5       2022-01-25                          COSTCO   \n",
      "..                 ...              ...                             ...   \n",
      "92                  93       2022-09-20                        SPEEDWAY   \n",
      "93                  94       2022-09-21                      MCDONALD’S   \n",
      "94                  95       2022-09-30                          COSTCO   \n",
      "95                  96       2022-09-30                          KROGER   \n",
      "96                  97       2022-09-30  MAHARAJA INTERNATIONAL GROCERY   \n",
      "\n",
      "    NUMBER_OF_ITEMS  TOTAL_AMOUNT_SPENT($)  FETCH_REWARDS_EARNED  \\\n",
      "0                 9                  30.19                    25   \n",
      "1                 2                  22.87                    25   \n",
      "2                 9                  72.98                    25   \n",
      "3                 1                  10.91                    25   \n",
      "4                41                 501.94                   214   \n",
      "..              ...                    ...                   ...   \n",
      "92                1                  54.90                    25   \n",
      "93                2                  10.15                    25   \n",
      "94               18                 203.04                    25   \n",
      "95               12                  61.40                    25   \n",
      "96                7                  42.59                    25   \n",
      "\n",
      "   SPECIAL_OFFER_BONUS(Y/N) EXCEPTION  \n",
      "0                         N       NaN  \n",
      "1                         N       NaN  \n",
      "2                         N       NaN  \n",
      "3                         N       NaN  \n",
      "4                         Y       NaN  \n",
      "..                      ...       ...  \n",
      "92                        N       NaN  \n",
      "93                        N       NaN  \n",
      "94                        N       NaN  \n",
      "95                        N       NaN  \n",
      "96                        N       NaN  \n",
      "\n",
      "[97 rows x 8 columns]\n"
     ]
    }
   ],
   "source": [
    "df['TRANSACTION_DATE'] = pd.to_datetime(df['TRANSACTION_DATE']) # format to correct datetime\n",
    "print(df)"
   ]
  },
  {
   "cell_type": "markdown",
   "id": "84bc73a9",
   "metadata": {},
   "source": [
    "delete rows that has 0 as value for fetch rewards earned\n"
   ]
  },
  {
   "cell_type": "code",
   "execution_count": 4,
   "id": "53b348d2",
   "metadata": {},
   "outputs": [
    {
     "name": "stdout",
     "output_type": "stream",
     "text": [
      "    TRANSACTION_NUMBER TRANSACTION_DATE                      STORE_NAME  \\\n",
      "0                    1       2022-01-15                   REMKE MARKETS   \n",
      "1                    2       2022-01-15                             CVS   \n",
      "2                    3       2022-01-16                      APPLEBEE’S   \n",
      "3                    4       2022-01-18                             CVS   \n",
      "4                    5       2022-01-25                          COSTCO   \n",
      "..                 ...              ...                             ...   \n",
      "92                  93       2022-09-20                        SPEEDWAY   \n",
      "93                  94       2022-09-21                      MCDONALD’S   \n",
      "94                  95       2022-09-30                          COSTCO   \n",
      "95                  96       2022-09-30                          KROGER   \n",
      "96                  97       2022-09-30  MAHARAJA INTERNATIONAL GROCERY   \n",
      "\n",
      "    NUMBER_OF_ITEMS  TOTAL_AMOUNT_SPENT($)  FETCH_REWARDS_EARNED  \\\n",
      "0                 9                  30.19                    25   \n",
      "1                 2                  22.87                    25   \n",
      "2                 9                  72.98                    25   \n",
      "3                 1                  10.91                    25   \n",
      "4                41                 501.94                   214   \n",
      "..              ...                    ...                   ...   \n",
      "92                1                  54.90                    25   \n",
      "93                2                  10.15                    25   \n",
      "94               18                 203.04                    25   \n",
      "95               12                  61.40                    25   \n",
      "96                7                  42.59                    25   \n",
      "\n",
      "   SPECIAL_OFFER_BONUS(Y/N) EXCEPTION  \n",
      "0                         N       NaN  \n",
      "1                         N       NaN  \n",
      "2                         N       NaN  \n",
      "3                         N       NaN  \n",
      "4                         Y       NaN  \n",
      "..                      ...       ...  \n",
      "92                        N       NaN  \n",
      "93                        N       NaN  \n",
      "94                        N       NaN  \n",
      "95                        N       NaN  \n",
      "96                        N       NaN  \n",
      "\n",
      "[89 rows x 8 columns]\n"
     ]
    }
   ],
   "source": [
    "for rewards in df.index:\n",
    "    if df.loc[rewards, 'FETCH_REWARDS_EARNED'] == 0: #remove rows where fetch rewards earned =0\n",
    "        df.drop(rewards, inplace = True) #replace with new data \n",
    "print(df)"
   ]
  },
  {
   "cell_type": "code",
   "execution_count": 45,
   "id": "7b9c5ed0",
   "metadata": {},
   "outputs": [
    {
     "name": "stdout",
     "output_type": "stream",
     "text": [
      "TRANSACTION_DATE\n",
      "May           172.98\n",
      "July          362.64\n",
      "March         492.14\n",
      "February      639.11\n",
      "June          770.58\n",
      "January       819.93\n",
      "April         858.99\n",
      "September    1081.25\n",
      "August       1310.65\n",
      "Name: TOTAL_AMOUNT_SPENT($), dtype: float64\n"
     ]
    },
    {
     "data": {
      "text/plain": [
       "Text(0.5, 1.0, 'MONTHLY EXPENSE REPORT')"
      ]
     },
     "execution_count": 45,
     "metadata": {},
     "output_type": "execute_result"
    },
    {
     "data": {
      "image/png": "[encoded data removed]",
      "text/plain": [
       "<Figure size 640x480 with 1 Axes>"
      ]
     },
     "metadata": {},
     "output_type": "display_data"
    }
   ],
   "source": [
    "from matplotlib import pyplot as plt\n",
    "monthly_expense = df.groupby(df['TRANSACTION_DATE'].dt.strftime('%B'))['TOTAL_AMOUNT_SPENT($)'].sum().sort_values()\n",
    "\n",
    "print(monthly_expense)\n",
    "\n",
    "plt.plot(monthly_expense)\n",
    "plt.xlabel('TRANSACTION MONTH')\n",
    "plt.ylabel('TOTAL AMOUNT SPENT')\n",
    "plt.title('MONTHLY EXPENSE REPORT')"
   ]
  },
  {
   "cell_type": "code",
   "execution_count": 26,
   "id": "44c7fca5",
   "metadata": {},
   "outputs": [
    {
     "name": "stdout",
     "output_type": "stream",
     "text": [
      "STORE_NAME\n",
      "USPS                                 1.49\n",
      "SUPER QUIK                           2.99\n",
      "COLD STONE CREAMERY                  3.00\n",
      "PAY EACH TIME YOU PARK               5.00\n",
      "CITY BIRD                            9.87\n",
      "BATH & BODY WORKS                   15.85\n",
      "PANERA                              17.06\n",
      "STARBUCKS                           19.03\n",
      "J.CREW                              19.07\n",
      "MCDONALD’S                          32.68\n",
      "MAI THAI RESTAURANT SUSHI BAR       36.98\n",
      "BURGER KING                         41.50\n",
      "THE CHEESECAKE FACTORY              41.51\n",
      "DOMINO’S PIZZA                      43.40\n",
      "CARTER’S SUPERMARKET                44.83\n",
      "MACY’S                              45.99\n",
      "FAMILY PRACTICE CENTER              50.00\n",
      "DILLARD’S                           52.99\n",
      "MAHARAJA INTERNATIONAL GROCERY      55.57\n",
      "SHELL                               69.82\n",
      "APPLEBEE’S                          72.98\n",
      "VICTORIA’S SECRET                  100.70\n",
      "CENTRAL MARKET                     103.10\n",
      "THAWNG ASIAN GROCERY               109.39\n",
      "COSTCO FUEL                        117.97\n",
      "OLIVE GARDEN                       126.66\n",
      "TARGET                             133.34\n",
      "THE HOME DEPOT                     169.09\n",
      "SPEEDWAY                           179.18\n",
      "CVS                                261.76\n",
      "REMKE MARKETS                      680.32\n",
      "KROGER                             959.59\n",
      "COSTCO                            2885.56\n",
      "Name: TOTAL_AMOUNT_SPENT($), dtype: float64\n"
     ]
    }
   ],
   "source": [
    "expenses_by_store = df.groupby(df['STORE_NAME'])['TOTAL_AMOUNT_SPENT($)'].sum().sort_values()\n",
    "print(expenses_by_store)"
   ]
  },
  {
   "cell_type": "code",
   "execution_count": 9,
   "id": "481536be",
   "metadata": {},
   "outputs": [
    {
     "name": "stdout",
     "output_type": "stream",
     "text": [
      "Total spent by store                                TRANSACTION_NUMBER  NUMBER_OF_ITEMS  \\\n",
      "STORE_NAME                                                            \n",
      "APPLEBEE’S                                       3                9   \n",
      "BATH & BODY WORKS                               82                6   \n",
      "BURGER KING                                     12               11   \n",
      "CARTER’S SUPERMARKET                            21                3   \n",
      "CENTRAL MARKET                                  65               27   \n",
      "CITY BIRD                                       18                1   \n",
      "COLD STONE CREAMERY                             19                1   \n",
      "COSTCO                                         626              202   \n",
      "COSTCO FUEL                                    116                2   \n",
      "CVS                                            638               28   \n",
      "DILLARD’S                                       51                3   \n",
      "DOMINO’S PIZZA                                  38                6   \n",
      "FAMILY PRACTICE CENTER                          49                2   \n",
      "J.CREW                                          52                7   \n",
      "KROGER                                         263              214   \n",
      "MACY’S                                         142                3   \n",
      "MAHARAJA INTERNATIONAL GROCERY                 173                9   \n",
      "MAI THAI RESTAURANT SUSHI BAR                   43                1   \n",
      "MCDONALD’S                                     107               11   \n",
      "OLIVE GARDEN                                   114               22   \n",
      "PANERA                                          55                5   \n",
      "PAY EACH TIME YOU PARK                          42                1   \n",
      "REMKE MARKETS                                  718              167   \n",
      "SHELL                                           22                1   \n",
      "SPEEDWAY                                       118                4   \n",
      "STARBUCKS                                       51                3   \n",
      "SUPER QUIK                                      41                1   \n",
      "TARGET                                          79               14   \n",
      "THAWNG ASIAN GROCERY                           166               29   \n",
      "THE CHEESECAKE FACTORY                          61                1   \n",
      "THE HOME DEPOT                                 218                9   \n",
      "USPS                                            53                2   \n",
      "VICTORIA’S SECRET                               48               10   \n",
      "\n",
      "                                TOTAL_AMOUNT_SPENT($)  FETCH_REWARDS_EARNED  \n",
      "STORE_NAME                                                                   \n",
      "APPLEBEE’S                                      72.98                    25  \n",
      "BATH & BODY WORKS                               15.85                    25  \n",
      "BURGER KING                                     41.50                    25  \n",
      "CARTER’S SUPERMARKET                            44.83                    25  \n",
      "CENTRAL MARKET                                 103.10                    35  \n",
      "CITY BIRD                                        9.87                    25  \n",
      "COLD STONE CREAMERY                              3.00                    25  \n",
      "COSTCO                                        2885.56                  1681  \n",
      "COSTCO FUEL                                    117.97                    50  \n",
      "CVS                                            261.76                   447  \n",
      "DILLARD’S                                       52.99                    25  \n",
      "DOMINO’S PIZZA                                  43.40                    25  \n",
      "FAMILY PRACTICE CENTER                          50.00                    50  \n",
      "J.CREW                                          19.07                    25  \n",
      "KROGER                                         959.59                  1266  \n",
      "MACY’S                                          45.99                    50  \n",
      "MAHARAJA INTERNATIONAL GROCERY                  55.57                    50  \n",
      "MAI THAI RESTAURANT SUSHI BAR                   36.98                    25  \n",
      "MCDONALD’S                                      32.68                    50  \n",
      "OLIVE GARDEN                                   126.66                   350  \n",
      "PANERA                                          17.06                    25  \n",
      "PAY EACH TIME YOU PARK                           5.00                    25  \n",
      "REMKE MARKETS                                  680.32                   450  \n",
      "SHELL                                           69.82                    25  \n",
      "SPEEDWAY                                       179.18                   400  \n",
      "STARBUCKS                                       19.03                    50  \n",
      "SUPER QUIK                                       2.99                    25  \n",
      "TARGET                                         133.34                    25  \n",
      "THAWNG ASIAN GROCERY                           109.39                    85  \n",
      "THE CHEESECAKE FACTORY                          41.51                    25  \n",
      "THE HOME DEPOT                                 169.09                   125  \n",
      "USPS                                             1.49                   625  \n",
      "VICTORIA’S SECRET                              100.70                    25  \n"
     ]
    },
    {
     "name": "stderr",
     "output_type": "stream",
     "text": [
      "C:\\Users\\prati\\AppData\\Local\\Temp\\ipykernel_13840\\1461297576.py:1: FutureWarning: The default value of numeric_only in DataFrameGroupBy.sum is deprecated. In a future version, numeric_only will default to False. Either specify numeric_only or select only columns which should be valid for the function.\n",
      "  total_spent_by_store = df.groupby(['STORE_NAME']).sum() # sum by each store\n"
     ]
    }
   ],
   "source": [
    "total_spent_by_store = df.groupby(['STORE_NAME']).sum() # sum by each store\n",
    "print(f'Total spent by store{total_spent_by_store}')\n"
   ]
  },
  {
   "cell_type": "code",
   "execution_count": 49,
   "id": "82ad8923",
   "metadata": {
    "scrolled": false
   },
   "outputs": [
    {
     "name": "stdout",
     "output_type": "stream",
     "text": [
      "STORE_NAME\n",
      "APPLEBEE’S                          25\n",
      "BATH & BODY WORKS                   25\n",
      "BURGER KING                         25\n",
      "CARTER’S SUPERMARKET                25\n",
      "CENTRAL MARKET                      35\n",
      "CITY BIRD                           25\n",
      "COLD STONE CREAMERY                 25\n",
      "COSTCO                            1681\n",
      "COSTCO FUEL                         50\n",
      "CVS                                447\n",
      "DILLARD’S                           25\n",
      "DOMINO’S PIZZA                      25\n",
      "FAMILY PRACTICE CENTER              50\n",
      "J.CREW                              25\n",
      "KROGER                            1266\n",
      "MACY’S                              50\n",
      "MAHARAJA INTERNATIONAL GROCERY      50\n",
      "MAI THAI RESTAURANT SUSHI BAR       25\n",
      "MCDONALD’S                          50\n",
      "OLIVE GARDEN                       350\n",
      "PANERA                              25\n",
      "PAY EACH TIME YOU PARK              25\n",
      "REMKE MARKETS                      450\n",
      "SHELL                               25\n",
      "SPEEDWAY                           400\n",
      "STARBUCKS                           50\n",
      "SUPER QUIK                          25\n",
      "TARGET                              25\n",
      "THAWNG ASIAN GROCERY                85\n",
      "THE CHEESECAKE FACTORY              25\n",
      "THE HOME DEPOT                     125\n",
      "USPS                               625\n",
      "VICTORIA’S SECRET                   25\n",
      "Name: FETCH_REWARDS_EARNED, dtype: int64\n"
     ]
    }
   ],
   "source": [
    "total_spent_by_store = df.groupby(['STORE_NAME'])['FETCH_REWARDS_EARNED'].sum() # sum by each store\n",
    "print(total_spent_by_store)"
   ]
  },
  {
   "cell_type": "code",
   "execution_count": null,
   "id": "e5954262",
   "metadata": {},
   "outputs": [],
   "source": []
  }
 ],
 "metadata": {
  "kernelspec": {
   "display_name": "Python 3 (ipykernel)",
   "language": "python",
   "name": "python3"
  },
  "language_info": {
   "codemirror_mode": {
    "name": "ipython",
    "version": 3
   },
   "file_extension": ".py",
   "mimetype": "text/x-python",
   "name": "python",
   "nbconvert_exporter": "python",
   "pygments_lexer": "ipython3",
   "version": "3.10.6"
  }
 },
 "nbformat": 4,
 "nbformat_minor": 5
}
